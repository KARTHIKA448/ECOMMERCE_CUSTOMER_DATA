{
 "cells": [
  {
   "cell_type": "markdown",
   "id": "bd5b2ebc",
   "metadata": {},
   "source": [
    "#### IMPORTING LIBRARIES"
   ]
  },
  {
   "cell_type": "code",
   "execution_count": 1,
   "id": "871b5638",
   "metadata": {},
   "outputs": [],
   "source": [
    "import pandas as pd\n",
    "import numpy as np\n",
    "import matplotlib.pyplot as plt\n",
    "import seaborn as sns"
   ]
  },
  {
   "cell_type": "code",
   "execution_count": 2,
   "id": "d5bb0a32",
   "metadata": {},
   "outputs": [],
   "source": [
    "import warnings\n",
    "warnings.filterwarnings(\"ignore\")"
   ]
  },
  {
   "cell_type": "markdown",
   "id": "241b2c11",
   "metadata": {},
   "source": [
    "#### LOADING AND READING THE DATASET"
   ]
  },
  {
   "cell_type": "code",
   "execution_count": 3,
   "id": "b693b2f3",
   "metadata": {},
   "outputs": [
    {
     "data": {
      "text/html": [
       "<div>\n",
       "<style scoped>\n",
       "    .dataframe tbody tr th:only-of-type {\n",
       "        vertical-align: middle;\n",
       "    }\n",
       "\n",
       "    .dataframe tbody tr th {\n",
       "        vertical-align: top;\n",
       "    }\n",
       "\n",
       "    .dataframe thead th {\n",
       "        text-align: right;\n",
       "    }\n",
       "</style>\n",
       "<table border=\"1\" class=\"dataframe\">\n",
       "  <thead>\n",
       "    <tr style=\"text-align: right;\">\n",
       "      <th></th>\n",
       "      <th>User_ID</th>\n",
       "      <th>Gender</th>\n",
       "      <th>Age</th>\n",
       "      <th>Location</th>\n",
       "      <th>Device_Type</th>\n",
       "      <th>Product_Browsing_Time</th>\n",
       "      <th>Total_Pages_Viewed</th>\n",
       "      <th>Items_Added_to_Cart</th>\n",
       "      <th>Total_Purchases</th>\n",
       "    </tr>\n",
       "  </thead>\n",
       "  <tbody>\n",
       "    <tr>\n",
       "      <th>0</th>\n",
       "      <td>1</td>\n",
       "      <td>Female</td>\n",
       "      <td>23</td>\n",
       "      <td>Ahmedabad</td>\n",
       "      <td>Mobile</td>\n",
       "      <td>60</td>\n",
       "      <td>30</td>\n",
       "      <td>1</td>\n",
       "      <td>0</td>\n",
       "    </tr>\n",
       "    <tr>\n",
       "      <th>1</th>\n",
       "      <td>2</td>\n",
       "      <td>Male</td>\n",
       "      <td>25</td>\n",
       "      <td>Kolkata</td>\n",
       "      <td>Tablet</td>\n",
       "      <td>30</td>\n",
       "      <td>38</td>\n",
       "      <td>9</td>\n",
       "      <td>4</td>\n",
       "    </tr>\n",
       "    <tr>\n",
       "      <th>2</th>\n",
       "      <td>3</td>\n",
       "      <td>Male</td>\n",
       "      <td>32</td>\n",
       "      <td>Bangalore</td>\n",
       "      <td>Desktop</td>\n",
       "      <td>37</td>\n",
       "      <td>13</td>\n",
       "      <td>5</td>\n",
       "      <td>0</td>\n",
       "    </tr>\n",
       "    <tr>\n",
       "      <th>3</th>\n",
       "      <td>4</td>\n",
       "      <td>Male</td>\n",
       "      <td>35</td>\n",
       "      <td>Delhi</td>\n",
       "      <td>Mobile</td>\n",
       "      <td>7</td>\n",
       "      <td>20</td>\n",
       "      <td>10</td>\n",
       "      <td>3</td>\n",
       "    </tr>\n",
       "    <tr>\n",
       "      <th>4</th>\n",
       "      <td>5</td>\n",
       "      <td>Male</td>\n",
       "      <td>27</td>\n",
       "      <td>Bangalore</td>\n",
       "      <td>Tablet</td>\n",
       "      <td>35</td>\n",
       "      <td>20</td>\n",
       "      <td>8</td>\n",
       "      <td>2</td>\n",
       "    </tr>\n",
       "    <tr>\n",
       "      <th>...</th>\n",
       "      <td>...</td>\n",
       "      <td>...</td>\n",
       "      <td>...</td>\n",
       "      <td>...</td>\n",
       "      <td>...</td>\n",
       "      <td>...</td>\n",
       "      <td>...</td>\n",
       "      <td>...</td>\n",
       "      <td>...</td>\n",
       "    </tr>\n",
       "    <tr>\n",
       "      <th>495</th>\n",
       "      <td>496</td>\n",
       "      <td>Male</td>\n",
       "      <td>24</td>\n",
       "      <td>Mumbai</td>\n",
       "      <td>Tablet</td>\n",
       "      <td>40</td>\n",
       "      <td>45</td>\n",
       "      <td>0</td>\n",
       "      <td>0</td>\n",
       "    </tr>\n",
       "    <tr>\n",
       "      <th>496</th>\n",
       "      <td>497</td>\n",
       "      <td>Female</td>\n",
       "      <td>24</td>\n",
       "      <td>Hyderabad</td>\n",
       "      <td>Desktop</td>\n",
       "      <td>8</td>\n",
       "      <td>34</td>\n",
       "      <td>4</td>\n",
       "      <td>5</td>\n",
       "    </tr>\n",
       "    <tr>\n",
       "      <th>497</th>\n",
       "      <td>498</td>\n",
       "      <td>Male</td>\n",
       "      <td>19</td>\n",
       "      <td>Pune</td>\n",
       "      <td>Desktop</td>\n",
       "      <td>33</td>\n",
       "      <td>41</td>\n",
       "      <td>0</td>\n",
       "      <td>3</td>\n",
       "    </tr>\n",
       "    <tr>\n",
       "      <th>498</th>\n",
       "      <td>499</td>\n",
       "      <td>Male</td>\n",
       "      <td>28</td>\n",
       "      <td>Chennai</td>\n",
       "      <td>Desktop</td>\n",
       "      <td>6</td>\n",
       "      <td>32</td>\n",
       "      <td>7</td>\n",
       "      <td>4</td>\n",
       "    </tr>\n",
       "    <tr>\n",
       "      <th>499</th>\n",
       "      <td>500</td>\n",
       "      <td>Female</td>\n",
       "      <td>31</td>\n",
       "      <td>Kolkata</td>\n",
       "      <td>Mobile</td>\n",
       "      <td>16</td>\n",
       "      <td>10</td>\n",
       "      <td>10</td>\n",
       "      <td>4</td>\n",
       "    </tr>\n",
       "  </tbody>\n",
       "</table>\n",
       "<p>500 rows × 9 columns</p>\n",
       "</div>"
      ],
      "text/plain": [
       "     User_ID  Gender  Age   Location Device_Type  Product_Browsing_Time  \\\n",
       "0          1  Female   23  Ahmedabad      Mobile                     60   \n",
       "1          2    Male   25    Kolkata      Tablet                     30   \n",
       "2          3    Male   32  Bangalore     Desktop                     37   \n",
       "3          4    Male   35      Delhi      Mobile                      7   \n",
       "4          5    Male   27  Bangalore      Tablet                     35   \n",
       "..       ...     ...  ...        ...         ...                    ...   \n",
       "495      496    Male   24     Mumbai      Tablet                     40   \n",
       "496      497  Female   24  Hyderabad     Desktop                      8   \n",
       "497      498    Male   19       Pune     Desktop                     33   \n",
       "498      499    Male   28    Chennai     Desktop                      6   \n",
       "499      500  Female   31    Kolkata      Mobile                     16   \n",
       "\n",
       "     Total_Pages_Viewed  Items_Added_to_Cart  Total_Purchases  \n",
       "0                    30                    1                0  \n",
       "1                    38                    9                4  \n",
       "2                    13                    5                0  \n",
       "3                    20                   10                3  \n",
       "4                    20                    8                2  \n",
       "..                  ...                  ...              ...  \n",
       "495                  45                    0                0  \n",
       "496                  34                    4                5  \n",
       "497                  41                    0                3  \n",
       "498                  32                    7                4  \n",
       "499                  10                   10                4  \n",
       "\n",
       "[500 rows x 9 columns]"
      ]
     },
     "execution_count": 3,
     "metadata": {},
     "output_type": "execute_result"
    }
   ],
   "source": [
    "df = pd.read_csv(\"ecommerce_customer_data.csv\")\n",
    "df"
   ]
  },
  {
   "cell_type": "code",
   "execution_count": 4,
   "id": "49b0c8c9",
   "metadata": {},
   "outputs": [
    {
     "data": {
      "text/html": [
       "<div>\n",
       "<style scoped>\n",
       "    .dataframe tbody tr th:only-of-type {\n",
       "        vertical-align: middle;\n",
       "    }\n",
       "\n",
       "    .dataframe tbody tr th {\n",
       "        vertical-align: top;\n",
       "    }\n",
       "\n",
       "    .dataframe thead th {\n",
       "        text-align: right;\n",
       "    }\n",
       "</style>\n",
       "<table border=\"1\" class=\"dataframe\">\n",
       "  <thead>\n",
       "    <tr style=\"text-align: right;\">\n",
       "      <th></th>\n",
       "      <th>Gender</th>\n",
       "      <th>Age</th>\n",
       "      <th>Location</th>\n",
       "      <th>Device_Type</th>\n",
       "      <th>Product_Browsing_Time</th>\n",
       "      <th>Total_Pages_Viewed</th>\n",
       "      <th>Items_Added_to_Cart</th>\n",
       "      <th>Total_Purchases</th>\n",
       "    </tr>\n",
       "    <tr>\n",
       "      <th>User_ID</th>\n",
       "      <th></th>\n",
       "      <th></th>\n",
       "      <th></th>\n",
       "      <th></th>\n",
       "      <th></th>\n",
       "      <th></th>\n",
       "      <th></th>\n",
       "      <th></th>\n",
       "    </tr>\n",
       "  </thead>\n",
       "  <tbody>\n",
       "    <tr>\n",
       "      <th>1</th>\n",
       "      <td>Female</td>\n",
       "      <td>23</td>\n",
       "      <td>Ahmedabad</td>\n",
       "      <td>Mobile</td>\n",
       "      <td>60</td>\n",
       "      <td>30</td>\n",
       "      <td>1</td>\n",
       "      <td>0</td>\n",
       "    </tr>\n",
       "    <tr>\n",
       "      <th>2</th>\n",
       "      <td>Male</td>\n",
       "      <td>25</td>\n",
       "      <td>Kolkata</td>\n",
       "      <td>Tablet</td>\n",
       "      <td>30</td>\n",
       "      <td>38</td>\n",
       "      <td>9</td>\n",
       "      <td>4</td>\n",
       "    </tr>\n",
       "    <tr>\n",
       "      <th>3</th>\n",
       "      <td>Male</td>\n",
       "      <td>32</td>\n",
       "      <td>Bangalore</td>\n",
       "      <td>Desktop</td>\n",
       "      <td>37</td>\n",
       "      <td>13</td>\n",
       "      <td>5</td>\n",
       "      <td>0</td>\n",
       "    </tr>\n",
       "    <tr>\n",
       "      <th>4</th>\n",
       "      <td>Male</td>\n",
       "      <td>35</td>\n",
       "      <td>Delhi</td>\n",
       "      <td>Mobile</td>\n",
       "      <td>7</td>\n",
       "      <td>20</td>\n",
       "      <td>10</td>\n",
       "      <td>3</td>\n",
       "    </tr>\n",
       "    <tr>\n",
       "      <th>5</th>\n",
       "      <td>Male</td>\n",
       "      <td>27</td>\n",
       "      <td>Bangalore</td>\n",
       "      <td>Tablet</td>\n",
       "      <td>35</td>\n",
       "      <td>20</td>\n",
       "      <td>8</td>\n",
       "      <td>2</td>\n",
       "    </tr>\n",
       "    <tr>\n",
       "      <th>...</th>\n",
       "      <td>...</td>\n",
       "      <td>...</td>\n",
       "      <td>...</td>\n",
       "      <td>...</td>\n",
       "      <td>...</td>\n",
       "      <td>...</td>\n",
       "      <td>...</td>\n",
       "      <td>...</td>\n",
       "    </tr>\n",
       "    <tr>\n",
       "      <th>496</th>\n",
       "      <td>Male</td>\n",
       "      <td>24</td>\n",
       "      <td>Mumbai</td>\n",
       "      <td>Tablet</td>\n",
       "      <td>40</td>\n",
       "      <td>45</td>\n",
       "      <td>0</td>\n",
       "      <td>0</td>\n",
       "    </tr>\n",
       "    <tr>\n",
       "      <th>497</th>\n",
       "      <td>Female</td>\n",
       "      <td>24</td>\n",
       "      <td>Hyderabad</td>\n",
       "      <td>Desktop</td>\n",
       "      <td>8</td>\n",
       "      <td>34</td>\n",
       "      <td>4</td>\n",
       "      <td>5</td>\n",
       "    </tr>\n",
       "    <tr>\n",
       "      <th>498</th>\n",
       "      <td>Male</td>\n",
       "      <td>19</td>\n",
       "      <td>Pune</td>\n",
       "      <td>Desktop</td>\n",
       "      <td>33</td>\n",
       "      <td>41</td>\n",
       "      <td>0</td>\n",
       "      <td>3</td>\n",
       "    </tr>\n",
       "    <tr>\n",
       "      <th>499</th>\n",
       "      <td>Male</td>\n",
       "      <td>28</td>\n",
       "      <td>Chennai</td>\n",
       "      <td>Desktop</td>\n",
       "      <td>6</td>\n",
       "      <td>32</td>\n",
       "      <td>7</td>\n",
       "      <td>4</td>\n",
       "    </tr>\n",
       "    <tr>\n",
       "      <th>500</th>\n",
       "      <td>Female</td>\n",
       "      <td>31</td>\n",
       "      <td>Kolkata</td>\n",
       "      <td>Mobile</td>\n",
       "      <td>16</td>\n",
       "      <td>10</td>\n",
       "      <td>10</td>\n",
       "      <td>4</td>\n",
       "    </tr>\n",
       "  </tbody>\n",
       "</table>\n",
       "<p>500 rows × 8 columns</p>\n",
       "</div>"
      ],
      "text/plain": [
       "         Gender  Age   Location Device_Type  Product_Browsing_Time  \\\n",
       "User_ID                                                              \n",
       "1        Female   23  Ahmedabad      Mobile                     60   \n",
       "2          Male   25    Kolkata      Tablet                     30   \n",
       "3          Male   32  Bangalore     Desktop                     37   \n",
       "4          Male   35      Delhi      Mobile                      7   \n",
       "5          Male   27  Bangalore      Tablet                     35   \n",
       "...         ...  ...        ...         ...                    ...   \n",
       "496        Male   24     Mumbai      Tablet                     40   \n",
       "497      Female   24  Hyderabad     Desktop                      8   \n",
       "498        Male   19       Pune     Desktop                     33   \n",
       "499        Male   28    Chennai     Desktop                      6   \n",
       "500      Female   31    Kolkata      Mobile                     16   \n",
       "\n",
       "         Total_Pages_Viewed  Items_Added_to_Cart  Total_Purchases  \n",
       "User_ID                                                            \n",
       "1                        30                    1                0  \n",
       "2                        38                    9                4  \n",
       "3                        13                    5                0  \n",
       "4                        20                   10                3  \n",
       "5                        20                    8                2  \n",
       "...                     ...                  ...              ...  \n",
       "496                      45                    0                0  \n",
       "497                      34                    4                5  \n",
       "498                      41                    0                3  \n",
       "499                      32                    7                4  \n",
       "500                      10                   10                4  \n",
       "\n",
       "[500 rows x 8 columns]"
      ]
     },
     "execution_count": 4,
     "metadata": {},
     "output_type": "execute_result"
    }
   ],
   "source": [
    "df= df.set_index(\"User_ID\")\n",
    "df"
   ]
  },
  {
   "cell_type": "code",
   "execution_count": 5,
   "id": "d3cd29c2",
   "metadata": {},
   "outputs": [],
   "source": [
    "dataset = df.copy()"
   ]
  },
  {
   "cell_type": "code",
   "execution_count": null,
   "id": "74ac2187",
   "metadata": {},
   "outputs": [],
   "source": [
    "The dataset tells about "
   ]
  },
  {
   "cell_type": "code",
   "execution_count": 11,
   "id": "aa283493",
   "metadata": {},
   "outputs": [
    {
     "data": {
      "text/plain": [
       "Index(['Gender', 'Age', 'Location', 'Device_Type', 'Product_Browsing_Time',\n",
       "       'Total_Pages_Viewed', 'Items_Added_to_Cart', 'Total_Purchases'],\n",
       "      dtype='object')"
      ]
     },
     "execution_count": 11,
     "metadata": {},
     "output_type": "execute_result"
    }
   ],
   "source": [
    "df.columns"
   ]
  },
  {
   "cell_type": "markdown",
   "id": "de96bb8a",
   "metadata": {},
   "source": [
    "each feature:\n",
    "\n",
    "    Gender: The gender of the user (e.g., Male, Female, or other).\n",
    "    Age: The age of the user.\n",
    "    Location: The geographical location or region where the user is located.\n",
    "    Device_Type: The type of device used by the user (e.g., mobile, desktop, tablet).\n",
    "    Product_Browsing_Time: The amount of time a user spends browsing products on the platform.\n",
    "    Total_Pages_Viewed: The total number of pages viewed by the user during their session.\n",
    "    Items_Added_to_Cart: The number of items the user added to their shopping cart.\n",
    "    Total_Purchases: The total number of purchases made by the user."
   ]
  },
  {
   "cell_type": "code",
   "execution_count": 12,
   "id": "f7790d1d",
   "metadata": {},
   "outputs": [
    {
     "name": "stdout",
     "output_type": "stream",
     "text": [
      "no of rows and columns:  (500, 8)\n"
     ]
    }
   ],
   "source": [
    "print(\"no of rows and columns: \",df.shape)"
   ]
  },
  {
   "cell_type": "code",
   "execution_count": 13,
   "id": "e836e426",
   "metadata": {},
   "outputs": [
    {
     "name": "stdout",
     "output_type": "stream",
     "text": [
      "number of elements:  4000\n"
     ]
    }
   ],
   "source": [
    "print(\"number of elements: \",df.size)"
   ]
  },
  {
   "cell_type": "code",
   "execution_count": 14,
   "id": "d3535e18",
   "metadata": {},
   "outputs": [
    {
     "data": {
      "text/plain": [
       "Gender                   object\n",
       "Age                       int64\n",
       "Location                 object\n",
       "Device_Type              object\n",
       "Product_Browsing_Time     int64\n",
       "Total_Pages_Viewed        int64\n",
       "Items_Added_to_Cart       int64\n",
       "Total_Purchases           int64\n",
       "dtype: object"
      ]
     },
     "execution_count": 14,
     "metadata": {},
     "output_type": "execute_result"
    }
   ],
   "source": [
    "df.dtypes"
   ]
  },
  {
   "cell_type": "markdown",
   "id": "e4a15f97",
   "metadata": {},
   "source": [
    "#### MISSING VALUES AND DUPLICATES"
   ]
  },
  {
   "cell_type": "code",
   "execution_count": 16,
   "id": "21703b7f",
   "metadata": {},
   "outputs": [
    {
     "data": {
      "text/plain": [
       "Gender                   0\n",
       "Age                      0\n",
       "Location                 0\n",
       "Device_Type              0\n",
       "Product_Browsing_Time    0\n",
       "Total_Pages_Viewed       0\n",
       "Items_Added_to_Cart      0\n",
       "Total_Purchases          0\n",
       "dtype: int64"
      ]
     },
     "execution_count": 16,
     "metadata": {},
     "output_type": "execute_result"
    }
   ],
   "source": [
    "df.isna().sum()"
   ]
  },
  {
   "cell_type": "code",
   "execution_count": 17,
   "id": "09a5fcef",
   "metadata": {},
   "outputs": [
    {
     "data": {
      "text/plain": [
       "False"
      ]
     },
     "execution_count": 17,
     "metadata": {},
     "output_type": "execute_result"
    }
   ],
   "source": [
    "df.duplicated().any()"
   ]
  },
  {
   "cell_type": "markdown",
   "id": "695189e2",
   "metadata": {},
   "source": [
    "#### EXPLORE THE DATA"
   ]
  },
  {
   "cell_type": "markdown",
   "id": "8c54a88b",
   "metadata": {},
   "source": [
    "#### DESCRIPTIVE ANALYSIS"
   ]
  },
  {
   "cell_type": "code",
   "execution_count": 18,
   "id": "15904907",
   "metadata": {},
   "outputs": [
    {
     "data": {
      "text/html": [
       "<div>\n",
       "<style scoped>\n",
       "    .dataframe tbody tr th:only-of-type {\n",
       "        vertical-align: middle;\n",
       "    }\n",
       "\n",
       "    .dataframe tbody tr th {\n",
       "        vertical-align: top;\n",
       "    }\n",
       "\n",
       "    .dataframe thead th {\n",
       "        text-align: right;\n",
       "    }\n",
       "</style>\n",
       "<table border=\"1\" class=\"dataframe\">\n",
       "  <thead>\n",
       "    <tr style=\"text-align: right;\">\n",
       "      <th></th>\n",
       "      <th>count</th>\n",
       "      <th>unique</th>\n",
       "      <th>top</th>\n",
       "      <th>freq</th>\n",
       "      <th>mean</th>\n",
       "      <th>std</th>\n",
       "      <th>min</th>\n",
       "      <th>25%</th>\n",
       "      <th>50%</th>\n",
       "      <th>75%</th>\n",
       "      <th>max</th>\n",
       "    </tr>\n",
       "  </thead>\n",
       "  <tbody>\n",
       "    <tr>\n",
       "      <th>Gender</th>\n",
       "      <td>500</td>\n",
       "      <td>2</td>\n",
       "      <td>Male</td>\n",
       "      <td>261</td>\n",
       "      <td>NaN</td>\n",
       "      <td>NaN</td>\n",
       "      <td>NaN</td>\n",
       "      <td>NaN</td>\n",
       "      <td>NaN</td>\n",
       "      <td>NaN</td>\n",
       "      <td>NaN</td>\n",
       "    </tr>\n",
       "    <tr>\n",
       "      <th>Age</th>\n",
       "      <td>500.0</td>\n",
       "      <td>NaN</td>\n",
       "      <td>NaN</td>\n",
       "      <td>NaN</td>\n",
       "      <td>26.276</td>\n",
       "      <td>5.114699</td>\n",
       "      <td>18.0</td>\n",
       "      <td>22.0</td>\n",
       "      <td>26.0</td>\n",
       "      <td>31.0</td>\n",
       "      <td>35.0</td>\n",
       "    </tr>\n",
       "    <tr>\n",
       "      <th>Location</th>\n",
       "      <td>500</td>\n",
       "      <td>8</td>\n",
       "      <td>Kolkata</td>\n",
       "      <td>71</td>\n",
       "      <td>NaN</td>\n",
       "      <td>NaN</td>\n",
       "      <td>NaN</td>\n",
       "      <td>NaN</td>\n",
       "      <td>NaN</td>\n",
       "      <td>NaN</td>\n",
       "      <td>NaN</td>\n",
       "    </tr>\n",
       "    <tr>\n",
       "      <th>Device_Type</th>\n",
       "      <td>500</td>\n",
       "      <td>3</td>\n",
       "      <td>Mobile</td>\n",
       "      <td>178</td>\n",
       "      <td>NaN</td>\n",
       "      <td>NaN</td>\n",
       "      <td>NaN</td>\n",
       "      <td>NaN</td>\n",
       "      <td>NaN</td>\n",
       "      <td>NaN</td>\n",
       "      <td>NaN</td>\n",
       "    </tr>\n",
       "    <tr>\n",
       "      <th>Product_Browsing_Time</th>\n",
       "      <td>500.0</td>\n",
       "      <td>NaN</td>\n",
       "      <td>NaN</td>\n",
       "      <td>NaN</td>\n",
       "      <td>30.74</td>\n",
       "      <td>15.934246</td>\n",
       "      <td>5.0</td>\n",
       "      <td>16.0</td>\n",
       "      <td>31.0</td>\n",
       "      <td>44.0</td>\n",
       "      <td>60.0</td>\n",
       "    </tr>\n",
       "    <tr>\n",
       "      <th>Total_Pages_Viewed</th>\n",
       "      <td>500.0</td>\n",
       "      <td>NaN</td>\n",
       "      <td>NaN</td>\n",
       "      <td>NaN</td>\n",
       "      <td>27.182</td>\n",
       "      <td>13.071596</td>\n",
       "      <td>5.0</td>\n",
       "      <td>16.0</td>\n",
       "      <td>27.0</td>\n",
       "      <td>38.0</td>\n",
       "      <td>50.0</td>\n",
       "    </tr>\n",
       "    <tr>\n",
       "      <th>Items_Added_to_Cart</th>\n",
       "      <td>500.0</td>\n",
       "      <td>NaN</td>\n",
       "      <td>NaN</td>\n",
       "      <td>NaN</td>\n",
       "      <td>5.15</td>\n",
       "      <td>3.203127</td>\n",
       "      <td>0.0</td>\n",
       "      <td>2.0</td>\n",
       "      <td>5.0</td>\n",
       "      <td>8.0</td>\n",
       "      <td>10.0</td>\n",
       "    </tr>\n",
       "    <tr>\n",
       "      <th>Total_Purchases</th>\n",
       "      <td>500.0</td>\n",
       "      <td>NaN</td>\n",
       "      <td>NaN</td>\n",
       "      <td>NaN</td>\n",
       "      <td>2.464</td>\n",
       "      <td>1.740909</td>\n",
       "      <td>0.0</td>\n",
       "      <td>1.0</td>\n",
       "      <td>2.0</td>\n",
       "      <td>4.0</td>\n",
       "      <td>5.0</td>\n",
       "    </tr>\n",
       "  </tbody>\n",
       "</table>\n",
       "</div>"
      ],
      "text/plain": [
       "                       count unique      top freq    mean        std   min  \\\n",
       "Gender                   500      2     Male  261     NaN        NaN   NaN   \n",
       "Age                    500.0    NaN      NaN  NaN  26.276   5.114699  18.0   \n",
       "Location                 500      8  Kolkata   71     NaN        NaN   NaN   \n",
       "Device_Type              500      3   Mobile  178     NaN        NaN   NaN   \n",
       "Product_Browsing_Time  500.0    NaN      NaN  NaN   30.74  15.934246   5.0   \n",
       "Total_Pages_Viewed     500.0    NaN      NaN  NaN  27.182  13.071596   5.0   \n",
       "Items_Added_to_Cart    500.0    NaN      NaN  NaN    5.15   3.203127   0.0   \n",
       "Total_Purchases        500.0    NaN      NaN  NaN   2.464   1.740909   0.0   \n",
       "\n",
       "                        25%   50%   75%   max  \n",
       "Gender                  NaN   NaN   NaN   NaN  \n",
       "Age                    22.0  26.0  31.0  35.0  \n",
       "Location                NaN   NaN   NaN   NaN  \n",
       "Device_Type             NaN   NaN   NaN   NaN  \n",
       "Product_Browsing_Time  16.0  31.0  44.0  60.0  \n",
       "Total_Pages_Viewed     16.0  27.0  38.0  50.0  \n",
       "Items_Added_to_Cart     2.0   5.0   8.0  10.0  \n",
       "Total_Purchases         1.0   2.0   4.0   5.0  "
      ]
     },
     "execution_count": 18,
     "metadata": {},
     "output_type": "execute_result"
    }
   ],
   "source": [
    "df.describe(include=\"all\").T"
   ]
  },
  {
   "cell_type": "markdown",
   "id": "1b8fe9c6",
   "metadata": {},
   "source": [
    "- There are 500 entries in the dataset.\n",
    "- Most frequent gender is Male\n",
    "- The average age of users is approximately 26.28.\n",
    "- The age distribution ranges from 18 to 35 years.\n",
    "- There are 8 unique locations in which the most frequent location is Kolkata, occurring 71 times.\n",
    "- Three unique device types with Mobile is the most common device type\n",
    "- The average product browsing time is approximately 30.74 units \n",
    "- Users viewed between 5 and 50 pages on average.\n",
    "- On average, users added approximately 5.15 items to their carts.\n",
    "- On average, users made approximately 2.46 purchases.The number of purchases ranges from 0 to 5."
   ]
  },
  {
   "cell_type": "code",
   "execution_count": 21,
   "id": "d5d53afa",
   "metadata": {},
   "outputs": [
    {
     "data": {
      "text/plain": [
       "<Axes: ylabel='Gender'>"
      ]
     },
     "execution_count": 21,
     "metadata": {},
     "output_type": "execute_result"
    },
    {
     "data": {
      "image/png": "[encoded data removed]",
      "text/plain": [
       "<Figure size 640x480 with 1 Axes>"
      ]
     },
     "metadata": {},
     "output_type": "display_data"
    }
   ],
   "source": [
    "df[\"Gender\"].value_counts().plot(kind=\"pie\",autopct='%.2f%%')"
   ]
  },
  {
   "cell_type": "markdown",
   "id": "ba147006",
   "metadata": {},
   "source": [
    "- The number of males 52.20% was slightly higher than that of females  47.80%"
   ]
  },
  {
   "cell_type": "code",
   "execution_count": 22,
   "id": "5ea4a801",
   "metadata": {},
   "outputs": [
    {
     "data": {
      "text/plain": [
       "<Axes: >"
      ]
     },
     "execution_count": 22,
     "metadata": {},
     "output_type": "execute_result"
    },
    {
     "data": {
      "image/png": "[encoded data removed]",
      "text/plain": [
       "<Figure size 640x480 with 1 Axes>"
      ]
     },
     "metadata": {},
     "output_type": "display_data"
    }
   ],
   "source": [
    "df[\"Location\"].value_counts().plot(kind=\"bar\")"
   ]
  },
  {
   "cell_type": "markdown",
   "id": "d8be8508",
   "metadata": {},
   "source": [
    "the most frequent location is Kolkata and Chennai the less frequent location"
   ]
  },
  {
   "cell_type": "code",
   "execution_count": 26,
   "id": "7d11e0db",
   "metadata": {},
   "outputs": [
    {
     "data": {
      "text/plain": [
       "<Axes: ylabel='Device_Type'>"
      ]
     },
     "execution_count": 26,
     "metadata": {},
     "output_type": "execute_result"
    },
    {
     "data": {
      "image/png": "[encoded data removed]",
      "text/plain": [
       "<Figure size 640x480 with 1 Axes>"
      ]
     },
     "metadata": {},
     "output_type": "display_data"
    }
   ],
   "source": [
    "df[\"Device_Type\"].value_counts().plot(kind=\"pie\",autopct='%.2f%%')\n"
   ]
  },
  {
   "cell_type": "markdown",
   "id": "ada75215",
   "metadata": {},
   "source": [
    "The platform has a relatively high number of users accessing it through mobile devices"
   ]
  },
  {
   "cell_type": "markdown",
   "id": "88a467b7",
   "metadata": {},
   "source": [
    "#### EXPLORE MORE"
   ]
  },
  {
   "cell_type": "code",
   "execution_count": 6,
   "id": "1d77d115",
   "metadata": {},
   "outputs": [
    {
     "data": {
      "text/plain": [
       "<Axes: xlabel='Total_Pages_Viewed', ylabel='Count'>"
      ]
     },
     "execution_count": 6,
     "metadata": {},
     "output_type": "execute_result"
    },
    {
     "data": {
      "image/png": "[encoded data removed]",
      "text/plain": [
       "<Figure size 640x480 with 1 Axes>"
      ]
     },
     "metadata": {},
     "output_type": "display_data"
    }
   ],
   "source": [
    "sns.histplot(data=df,x=\"Total_Pages_Viewed\")"
   ]
  },
  {
   "cell_type": "code",
   "execution_count": 7,
   "id": "f68a94ce",
   "metadata": {},
   "outputs": [
    {
     "data": {
      "text/plain": [
       "<Axes: xlabel='Product_Browsing_Time', ylabel='Count'>"
      ]
     },
     "execution_count": 7,
     "metadata": {},
     "output_type": "execute_result"
    },
    {
     "data": {
      "image/png": "[encoded data removed]",
      "text/plain": [
       "<Figure size 640x480 with 1 Axes>"
      ]
     },
     "metadata": {},
     "output_type": "display_data"
    }
   ],
   "source": [
    "sns.histplot(data=df,x=\"Product_Browsing_Time\")"
   ]
  },
  {
   "cell_type": "code",
   "execution_count": 8,
   "id": "c1e05e7d",
   "metadata": {},
   "outputs": [
    {
     "data": {
      "text/plain": [
       "Product_Browsing_Time    7540\n",
       "dtype: int64"
      ]
     },
     "execution_count": 8,
     "metadata": {},
     "output_type": "execute_result"
    }
   ],
   "source": [
    "df.loc[df[\"Gender\"]==\"Female\",[\"Product_Browsing_Time\"]].sum()"
   ]
  },
  {
   "cell_type": "code",
   "execution_count": 9,
   "id": "3ed473c6",
   "metadata": {},
   "outputs": [
    {
     "data": {
      "text/plain": [
       "Product_Browsing_Time    7830\n",
       "dtype: int64"
      ]
     },
     "execution_count": 9,
     "metadata": {},
     "output_type": "execute_result"
    }
   ],
   "source": [
    "df.loc[df[\"Gender\"]==\"Male\",[\"Product_Browsing_Time\"]].sum()"
   ]
  },
  {
   "cell_type": "code",
   "execution_count": 10,
   "id": "5d2394a5",
   "metadata": {},
   "outputs": [
    {
     "data": {
      "text/plain": [
       "Total_Purchases    544\n",
       "dtype: int64"
      ]
     },
     "execution_count": 10,
     "metadata": {},
     "output_type": "execute_result"
    }
   ],
   "source": [
    "df.loc[df[\"Gender\"]==\"Female\",[\"Total_Purchases\"]].sum()"
   ]
  },
  {
   "cell_type": "code",
   "execution_count": 11,
   "id": "41063942",
   "metadata": {},
   "outputs": [
    {
     "data": {
      "text/plain": [
       "Total_Purchases    688\n",
       "dtype: int64"
      ]
     },
     "execution_count": 11,
     "metadata": {},
     "output_type": "execute_result"
    }
   ],
   "source": [
    "df.loc[df[\"Gender\"]==\"Male\",[\"Total_Purchases\"]].sum()"
   ]
  },
  {
   "cell_type": "markdown",
   "id": "a7110732",
   "metadata": {},
   "source": [
    "browsing time and total purchases for male is more than female\n"
   ]
  },
  {
   "cell_type": "code",
   "execution_count": null,
   "id": "e5112cae",
   "metadata": {},
   "outputs": [],
   "source": []
  },
  {
   "cell_type": "code",
   "execution_count": null,
   "id": "2ac07fb3",
   "metadata": {},
   "outputs": [],
   "source": []
  },
  {
   "cell_type": "code",
   "execution_count": null,
   "id": "af22c960",
   "metadata": {},
   "outputs": [],
   "source": []
  },
  {
   "cell_type": "markdown",
   "id": "041a2be3",
   "metadata": {},
   "source": [
    "#### COORELATION ANALYSIS"
   ]
  },
  {
   "cell_type": "code",
   "execution_count": 19,
   "id": "dc7ec2a5",
   "metadata": {},
   "outputs": [
    {
     "data": {
      "text/html": [
       "<div>\n",
       "<style scoped>\n",
       "    .dataframe tbody tr th:only-of-type {\n",
       "        vertical-align: middle;\n",
       "    }\n",
       "\n",
       "    .dataframe tbody tr th {\n",
       "        vertical-align: top;\n",
       "    }\n",
       "\n",
       "    .dataframe thead th {\n",
       "        text-align: right;\n",
       "    }\n",
       "</style>\n",
       "<table border=\"1\" class=\"dataframe\">\n",
       "  <thead>\n",
       "    <tr style=\"text-align: right;\">\n",
       "      <th></th>\n",
       "      <th>Age</th>\n",
       "      <th>Product_Browsing_Time</th>\n",
       "      <th>Total_Pages_Viewed</th>\n",
       "      <th>Items_Added_to_Cart</th>\n",
       "      <th>Total_Purchases</th>\n",
       "    </tr>\n",
       "  </thead>\n",
       "  <tbody>\n",
       "    <tr>\n",
       "      <th>Age</th>\n",
       "      <td>1.000000</td>\n",
       "      <td>-0.055870</td>\n",
       "      <td>0.015823</td>\n",
       "      <td>-0.031033</td>\n",
       "      <td>-0.042094</td>\n",
       "    </tr>\n",
       "    <tr>\n",
       "      <th>Product_Browsing_Time</th>\n",
       "      <td>-0.055870</td>\n",
       "      <td>1.000000</td>\n",
       "      <td>0.027841</td>\n",
       "      <td>0.017531</td>\n",
       "      <td>-0.023239</td>\n",
       "    </tr>\n",
       "    <tr>\n",
       "      <th>Total_Pages_Viewed</th>\n",
       "      <td>0.015823</td>\n",
       "      <td>0.027841</td>\n",
       "      <td>1.000000</td>\n",
       "      <td>0.024570</td>\n",
       "      <td>0.013630</td>\n",
       "    </tr>\n",
       "    <tr>\n",
       "      <th>Items_Added_to_Cart</th>\n",
       "      <td>-0.031033</td>\n",
       "      <td>0.017531</td>\n",
       "      <td>0.024570</td>\n",
       "      <td>1.000000</td>\n",
       "      <td>0.007978</td>\n",
       "    </tr>\n",
       "    <tr>\n",
       "      <th>Total_Purchases</th>\n",
       "      <td>-0.042094</td>\n",
       "      <td>-0.023239</td>\n",
       "      <td>0.013630</td>\n",
       "      <td>0.007978</td>\n",
       "      <td>1.000000</td>\n",
       "    </tr>\n",
       "  </tbody>\n",
       "</table>\n",
       "</div>"
      ],
      "text/plain": [
       "                            Age  Product_Browsing_Time  Total_Pages_Viewed  \\\n",
       "Age                    1.000000              -0.055870            0.015823   \n",
       "Product_Browsing_Time -0.055870               1.000000            0.027841   \n",
       "Total_Pages_Viewed     0.015823               0.027841            1.000000   \n",
       "Items_Added_to_Cart   -0.031033               0.017531            0.024570   \n",
       "Total_Purchases       -0.042094              -0.023239            0.013630   \n",
       "\n",
       "                       Items_Added_to_Cart  Total_Purchases  \n",
       "Age                              -0.031033        -0.042094  \n",
       "Product_Browsing_Time             0.017531        -0.023239  \n",
       "Total_Pages_Viewed                0.024570         0.013630  \n",
       "Items_Added_to_Cart               1.000000         0.007978  \n",
       "Total_Purchases                   0.007978         1.000000  "
      ]
     },
     "execution_count": 19,
     "metadata": {},
     "output_type": "execute_result"
    }
   ],
   "source": [
    "df.corr()"
   ]
  },
  {
   "cell_type": "code",
   "execution_count": 20,
   "id": "529be9c0",
   "metadata": {},
   "outputs": [
    {
     "data": {
      "text/plain": [
       "<Axes: >"
      ]
     },
     "execution_count": 20,
     "metadata": {},
     "output_type": "execute_result"
    },
    {
     "data": {
      "image/png": "[encoded data removed]",
      "text/plain": [
       "<Figure size 640x480 with 2 Axes>"
      ]
     },
     "metadata": {},
     "output_type": "display_data"
    }
   ],
   "source": [
    "sns.heatmap(df.corr())"
   ]
  },
  {
   "cell_type": "markdown",
   "id": "b0f31ec9",
   "metadata": {},
   "source": [
    "    • A slight negative correlation suggests a slight decrease in product browsing time as age increases.\n",
    "    • A slight positive correlation suggests a slight increase in total page views as age increases.\n",
    "    • A negative correlation suggests a slight decrease in items added to the cart as age increases.\n",
    "    • A weak negative correlation indicates a slight decrease in total purchases as age increases.\n",
    "    • A positive correlation suggests users who spend more time browsing tend to view more pages.\n",
    "    • A slight negative correlation suggests a small decrease in total purchases with longer product browsing times.\n",
    "    • A positive correlation suggests users who view more pages tend to add more items to their cart.\n",
    "    • A positive correlation indicates a weak association between the number of items added to the cart and total purchases."
   ]
  },
  {
   "cell_type": "markdown",
   "id": "452af74a",
   "metadata": {},
   "source": [
    "#### MORE ANALYSIS"
   ]
  },
  {
   "cell_type": "code",
   "execution_count": 33,
   "id": "a7d1ec10",
   "metadata": {},
   "outputs": [
    {
     "data": {
      "image/png": "[encoded data removed]",
      "text/plain": [
       "<Figure size 800x600 with 1 Axes>"
      ]
     },
     "metadata": {},
     "output_type": "display_data"
    }
   ],
   "source": [
    "plt.figure(figsize=(8, 6))\n",
    "sns.scatterplot(x='Age', y='Product_Browsing_Time', data=df)\n",
    "plt.title('Scatter Plot: Age vs. Product Browsing Time')\n",
    "plt.show()"
   ]
  },
  {
   "cell_type": "markdown",
   "id": "71ad3604",
   "metadata": {},
   "source": [
    "- every age groups are engaged with product browsing"
   ]
  },
  {
   "cell_type": "code",
   "execution_count": 34,
   "id": "f0ef8675",
   "metadata": {},
   "outputs": [
    {
     "data": {
      "image/png": "[encoded data removed]",
      "text/plain": [
       "<Figure size 640x480 with 1 Axes>"
      ]
     },
     "metadata": {},
     "output_type": "display_data"
    }
   ],
   "source": [
    "sns.boxplot(x='Total_Purchases', y='Age', data=df)\n",
    "plt.title('Box Plot: Age vs. Total Purchases')\n",
    "plt.show()"
   ]
  },
  {
   "cell_type": "markdown",
   "id": "4871ff77",
   "metadata": {},
   "source": [
    "- The age distribution ranges from 18 to 35 years."
   ]
  },
  {
   "cell_type": "code",
   "execution_count": 12,
   "id": "4530e68d",
   "metadata": {},
   "outputs": [
    {
     "data": {
      "text/plain": [
       "<Axes: xlabel='Location', ylabel='count'>"
      ]
     },
     "execution_count": 12,
     "metadata": {},
     "output_type": "execute_result"
    },
    {
     "data": {
      "image/png": "[encoded data removed]",
      "text/plain": [
       "<Figure size 2000x1200 with 1 Axes>"
      ]
     },
     "metadata": {},
     "output_type": "display_data"
    }
   ],
   "source": [
    "plt.figure(figsize=(20,12))\n",
    "sns.countplot(data=df,x=\"Location\",hue=\"Gender\")"
   ]
  },
  {
   "cell_type": "markdown",
   "id": "a98096ef",
   "metadata": {},
   "source": [
    "- kolkata is the location with more number of customers where females are more \n",
    "- in chennai also female customers are more compared to male\n",
    "- other all places male customers are more"
   ]
  },
  {
   "cell_type": "code",
   "execution_count": 13,
   "id": "a04407ad",
   "metadata": {},
   "outputs": [
    {
     "data": {
      "text/plain": [
       "<Axes: xlabel='Device_Type', ylabel='count'>"
      ]
     },
     "execution_count": 13,
     "metadata": {},
     "output_type": "execute_result"
    },
    {
     "data": {
      "image/png": "[encoded data removed]",
      "text/plain": [
       "<Figure size 640x480 with 1 Axes>"
      ]
     },
     "metadata": {},
     "output_type": "display_data"
    }
   ],
   "source": [
    "sns.countplot(data=df,x=\"Device_Type\",hue=\"Gender\")\n"
   ]
  },
  {
   "cell_type": "markdown",
   "id": "327235cd",
   "metadata": {},
   "source": [
    "- mobile and tablets are the platforms used by men mostly for shopping\n",
    "- desktops are more used by women\n",
    "- mobile is the most used platform for e-commerce"
   ]
  },
  {
   "cell_type": "code",
   "execution_count": 14,
   "id": "11e89eaf",
   "metadata": {},
   "outputs": [
    {
     "data": {
      "text/plain": [
       "<Axes: xlabel='Age', ylabel='Count'>"
      ]
     },
     "execution_count": 14,
     "metadata": {},
     "output_type": "execute_result"
    },
    {
     "data": {
      "image/png": "[encoded data removed]",
      "text/plain": [
       "<Figure size 640x480 with 1 Axes>"
      ]
     },
     "metadata": {},
     "output_type": "display_data"
    }
   ],
   "source": [
    "sns.histplot(data=df,x=\"Age\",hue=\"Location\")"
   ]
  },
  {
   "cell_type": "code",
   "execution_count": 15,
   "id": "167a7234",
   "metadata": {},
   "outputs": [
    {
     "data": {
      "text/html": [
       "<div>\n",
       "<style scoped>\n",
       "    .dataframe tbody tr th:only-of-type {\n",
       "        vertical-align: middle;\n",
       "    }\n",
       "\n",
       "    .dataframe tbody tr th {\n",
       "        vertical-align: top;\n",
       "    }\n",
       "\n",
       "    .dataframe thead th {\n",
       "        text-align: right;\n",
       "    }\n",
       "</style>\n",
       "<table border=\"1\" class=\"dataframe\">\n",
       "  <thead>\n",
       "    <tr style=\"text-align: right;\">\n",
       "      <th></th>\n",
       "      <th>Gender</th>\n",
       "      <th>Age</th>\n",
       "      <th>Location</th>\n",
       "      <th>Device_Type</th>\n",
       "      <th>Product_Browsing_Time</th>\n",
       "      <th>Total_Pages_Viewed</th>\n",
       "      <th>Items_Added_to_Cart</th>\n",
       "      <th>Total_Purchases</th>\n",
       "    </tr>\n",
       "    <tr>\n",
       "      <th>User_ID</th>\n",
       "      <th></th>\n",
       "      <th></th>\n",
       "      <th></th>\n",
       "      <th></th>\n",
       "      <th></th>\n",
       "      <th></th>\n",
       "      <th></th>\n",
       "      <th></th>\n",
       "    </tr>\n",
       "  </thead>\n",
       "  <tbody>\n",
       "    <tr>\n",
       "      <th>9</th>\n",
       "      <td>Male</td>\n",
       "      <td>33</td>\n",
       "      <td>Mumbai</td>\n",
       "      <td>Desktop</td>\n",
       "      <td>21</td>\n",
       "      <td>18</td>\n",
       "      <td>5</td>\n",
       "      <td>5</td>\n",
       "    </tr>\n",
       "    <tr>\n",
       "      <th>23</th>\n",
       "      <td>Female</td>\n",
       "      <td>21</td>\n",
       "      <td>Mumbai</td>\n",
       "      <td>Tablet</td>\n",
       "      <td>16</td>\n",
       "      <td>29</td>\n",
       "      <td>1</td>\n",
       "      <td>1</td>\n",
       "    </tr>\n",
       "    <tr>\n",
       "      <th>56</th>\n",
       "      <td>Female</td>\n",
       "      <td>32</td>\n",
       "      <td>Chennai</td>\n",
       "      <td>Tablet</td>\n",
       "      <td>56</td>\n",
       "      <td>29</td>\n",
       "      <td>2</td>\n",
       "      <td>2</td>\n",
       "    </tr>\n",
       "    <tr>\n",
       "      <th>70</th>\n",
       "      <td>Female</td>\n",
       "      <td>20</td>\n",
       "      <td>Hyderabad</td>\n",
       "      <td>Mobile</td>\n",
       "      <td>27</td>\n",
       "      <td>41</td>\n",
       "      <td>0</td>\n",
       "      <td>0</td>\n",
       "    </tr>\n",
       "    <tr>\n",
       "      <th>74</th>\n",
       "      <td>Female</td>\n",
       "      <td>29</td>\n",
       "      <td>Delhi</td>\n",
       "      <td>Mobile</td>\n",
       "      <td>57</td>\n",
       "      <td>20</td>\n",
       "      <td>1</td>\n",
       "      <td>1</td>\n",
       "    </tr>\n",
       "    <tr>\n",
       "      <th>110</th>\n",
       "      <td>Female</td>\n",
       "      <td>32</td>\n",
       "      <td>Kolkata</td>\n",
       "      <td>Tablet</td>\n",
       "      <td>31</td>\n",
       "      <td>31</td>\n",
       "      <td>0</td>\n",
       "      <td>0</td>\n",
       "    </tr>\n",
       "    <tr>\n",
       "      <th>125</th>\n",
       "      <td>Male</td>\n",
       "      <td>29</td>\n",
       "      <td>Kolkata</td>\n",
       "      <td>Desktop</td>\n",
       "      <td>58</td>\n",
       "      <td>43</td>\n",
       "      <td>3</td>\n",
       "      <td>3</td>\n",
       "    </tr>\n",
       "    <tr>\n",
       "      <th>128</th>\n",
       "      <td>Female</td>\n",
       "      <td>31</td>\n",
       "      <td>Ahmedabad</td>\n",
       "      <td>Desktop</td>\n",
       "      <td>28</td>\n",
       "      <td>24</td>\n",
       "      <td>5</td>\n",
       "      <td>5</td>\n",
       "    </tr>\n",
       "    <tr>\n",
       "      <th>180</th>\n",
       "      <td>Male</td>\n",
       "      <td>30</td>\n",
       "      <td>Delhi</td>\n",
       "      <td>Tablet</td>\n",
       "      <td>14</td>\n",
       "      <td>8</td>\n",
       "      <td>2</td>\n",
       "      <td>2</td>\n",
       "    </tr>\n",
       "    <tr>\n",
       "      <th>201</th>\n",
       "      <td>Female</td>\n",
       "      <td>19</td>\n",
       "      <td>Mumbai</td>\n",
       "      <td>Tablet</td>\n",
       "      <td>34</td>\n",
       "      <td>9</td>\n",
       "      <td>1</td>\n",
       "      <td>1</td>\n",
       "    </tr>\n",
       "    <tr>\n",
       "      <th>204</th>\n",
       "      <td>Female</td>\n",
       "      <td>21</td>\n",
       "      <td>Kolkata</td>\n",
       "      <td>Desktop</td>\n",
       "      <td>56</td>\n",
       "      <td>10</td>\n",
       "      <td>5</td>\n",
       "      <td>5</td>\n",
       "    </tr>\n",
       "    <tr>\n",
       "      <th>232</th>\n",
       "      <td>Male</td>\n",
       "      <td>30</td>\n",
       "      <td>Delhi</td>\n",
       "      <td>Tablet</td>\n",
       "      <td>47</td>\n",
       "      <td>48</td>\n",
       "      <td>3</td>\n",
       "      <td>3</td>\n",
       "    </tr>\n",
       "    <tr>\n",
       "      <th>242</th>\n",
       "      <td>Male</td>\n",
       "      <td>25</td>\n",
       "      <td>Bangalore</td>\n",
       "      <td>Tablet</td>\n",
       "      <td>32</td>\n",
       "      <td>9</td>\n",
       "      <td>2</td>\n",
       "      <td>2</td>\n",
       "    </tr>\n",
       "    <tr>\n",
       "      <th>247</th>\n",
       "      <td>Male</td>\n",
       "      <td>22</td>\n",
       "      <td>Chennai</td>\n",
       "      <td>Tablet</td>\n",
       "      <td>14</td>\n",
       "      <td>30</td>\n",
       "      <td>4</td>\n",
       "      <td>4</td>\n",
       "    </tr>\n",
       "    <tr>\n",
       "      <th>250</th>\n",
       "      <td>Male</td>\n",
       "      <td>23</td>\n",
       "      <td>Chennai</td>\n",
       "      <td>Mobile</td>\n",
       "      <td>51</td>\n",
       "      <td>47</td>\n",
       "      <td>4</td>\n",
       "      <td>4</td>\n",
       "    </tr>\n",
       "    <tr>\n",
       "      <th>255</th>\n",
       "      <td>Male</td>\n",
       "      <td>33</td>\n",
       "      <td>Delhi</td>\n",
       "      <td>Mobile</td>\n",
       "      <td>11</td>\n",
       "      <td>27</td>\n",
       "      <td>5</td>\n",
       "      <td>5</td>\n",
       "    </tr>\n",
       "    <tr>\n",
       "      <th>266</th>\n",
       "      <td>Male</td>\n",
       "      <td>35</td>\n",
       "      <td>Bangalore</td>\n",
       "      <td>Mobile</td>\n",
       "      <td>28</td>\n",
       "      <td>47</td>\n",
       "      <td>5</td>\n",
       "      <td>5</td>\n",
       "    </tr>\n",
       "    <tr>\n",
       "      <th>300</th>\n",
       "      <td>Male</td>\n",
       "      <td>18</td>\n",
       "      <td>Hyderabad</td>\n",
       "      <td>Desktop</td>\n",
       "      <td>39</td>\n",
       "      <td>16</td>\n",
       "      <td>2</td>\n",
       "      <td>2</td>\n",
       "    </tr>\n",
       "    <tr>\n",
       "      <th>305</th>\n",
       "      <td>Female</td>\n",
       "      <td>32</td>\n",
       "      <td>Delhi</td>\n",
       "      <td>Desktop</td>\n",
       "      <td>6</td>\n",
       "      <td>35</td>\n",
       "      <td>0</td>\n",
       "      <td>0</td>\n",
       "    </tr>\n",
       "    <tr>\n",
       "      <th>320</th>\n",
       "      <td>Male</td>\n",
       "      <td>32</td>\n",
       "      <td>Ahmedabad</td>\n",
       "      <td>Desktop</td>\n",
       "      <td>16</td>\n",
       "      <td>28</td>\n",
       "      <td>4</td>\n",
       "      <td>4</td>\n",
       "    </tr>\n",
       "    <tr>\n",
       "      <th>332</th>\n",
       "      <td>Female</td>\n",
       "      <td>35</td>\n",
       "      <td>Mumbai</td>\n",
       "      <td>Desktop</td>\n",
       "      <td>15</td>\n",
       "      <td>13</td>\n",
       "      <td>2</td>\n",
       "      <td>2</td>\n",
       "    </tr>\n",
       "    <tr>\n",
       "      <th>334</th>\n",
       "      <td>Female</td>\n",
       "      <td>34</td>\n",
       "      <td>Pune</td>\n",
       "      <td>Mobile</td>\n",
       "      <td>29</td>\n",
       "      <td>14</td>\n",
       "      <td>5</td>\n",
       "      <td>5</td>\n",
       "    </tr>\n",
       "    <tr>\n",
       "      <th>353</th>\n",
       "      <td>Male</td>\n",
       "      <td>31</td>\n",
       "      <td>Pune</td>\n",
       "      <td>Desktop</td>\n",
       "      <td>57</td>\n",
       "      <td>19</td>\n",
       "      <td>2</td>\n",
       "      <td>2</td>\n",
       "    </tr>\n",
       "    <tr>\n",
       "      <th>358</th>\n",
       "      <td>Female</td>\n",
       "      <td>23</td>\n",
       "      <td>Delhi</td>\n",
       "      <td>Tablet</td>\n",
       "      <td>56</td>\n",
       "      <td>35</td>\n",
       "      <td>2</td>\n",
       "      <td>2</td>\n",
       "    </tr>\n",
       "    <tr>\n",
       "      <th>362</th>\n",
       "      <td>Male</td>\n",
       "      <td>24</td>\n",
       "      <td>Chennai</td>\n",
       "      <td>Desktop</td>\n",
       "      <td>34</td>\n",
       "      <td>5</td>\n",
       "      <td>4</td>\n",
       "      <td>4</td>\n",
       "    </tr>\n",
       "    <tr>\n",
       "      <th>364</th>\n",
       "      <td>Female</td>\n",
       "      <td>18</td>\n",
       "      <td>Hyderabad</td>\n",
       "      <td>Tablet</td>\n",
       "      <td>8</td>\n",
       "      <td>20</td>\n",
       "      <td>1</td>\n",
       "      <td>1</td>\n",
       "    </tr>\n",
       "    <tr>\n",
       "      <th>379</th>\n",
       "      <td>Male</td>\n",
       "      <td>33</td>\n",
       "      <td>Kolkata</td>\n",
       "      <td>Mobile</td>\n",
       "      <td>48</td>\n",
       "      <td>28</td>\n",
       "      <td>5</td>\n",
       "      <td>5</td>\n",
       "    </tr>\n",
       "    <tr>\n",
       "      <th>394</th>\n",
       "      <td>Female</td>\n",
       "      <td>20</td>\n",
       "      <td>Delhi</td>\n",
       "      <td>Mobile</td>\n",
       "      <td>38</td>\n",
       "      <td>41</td>\n",
       "      <td>3</td>\n",
       "      <td>3</td>\n",
       "    </tr>\n",
       "    <tr>\n",
       "      <th>413</th>\n",
       "      <td>Male</td>\n",
       "      <td>31</td>\n",
       "      <td>Pune</td>\n",
       "      <td>Desktop</td>\n",
       "      <td>42</td>\n",
       "      <td>34</td>\n",
       "      <td>4</td>\n",
       "      <td>4</td>\n",
       "    </tr>\n",
       "    <tr>\n",
       "      <th>431</th>\n",
       "      <td>Female</td>\n",
       "      <td>23</td>\n",
       "      <td>Delhi</td>\n",
       "      <td>Desktop</td>\n",
       "      <td>52</td>\n",
       "      <td>8</td>\n",
       "      <td>2</td>\n",
       "      <td>2</td>\n",
       "    </tr>\n",
       "    <tr>\n",
       "      <th>459</th>\n",
       "      <td>Female</td>\n",
       "      <td>29</td>\n",
       "      <td>Hyderabad</td>\n",
       "      <td>Desktop</td>\n",
       "      <td>18</td>\n",
       "      <td>43</td>\n",
       "      <td>5</td>\n",
       "      <td>5</td>\n",
       "    </tr>\n",
       "    <tr>\n",
       "      <th>470</th>\n",
       "      <td>Male</td>\n",
       "      <td>21</td>\n",
       "      <td>Ahmedabad</td>\n",
       "      <td>Desktop</td>\n",
       "      <td>13</td>\n",
       "      <td>13</td>\n",
       "      <td>2</td>\n",
       "      <td>2</td>\n",
       "    </tr>\n",
       "    <tr>\n",
       "      <th>471</th>\n",
       "      <td>Male</td>\n",
       "      <td>35</td>\n",
       "      <td>Ahmedabad</td>\n",
       "      <td>Tablet</td>\n",
       "      <td>51</td>\n",
       "      <td>39</td>\n",
       "      <td>2</td>\n",
       "      <td>2</td>\n",
       "    </tr>\n",
       "    <tr>\n",
       "      <th>476</th>\n",
       "      <td>Male</td>\n",
       "      <td>18</td>\n",
       "      <td>Delhi</td>\n",
       "      <td>Mobile</td>\n",
       "      <td>16</td>\n",
       "      <td>41</td>\n",
       "      <td>5</td>\n",
       "      <td>5</td>\n",
       "    </tr>\n",
       "    <tr>\n",
       "      <th>485</th>\n",
       "      <td>Male</td>\n",
       "      <td>31</td>\n",
       "      <td>Pune</td>\n",
       "      <td>Mobile</td>\n",
       "      <td>12</td>\n",
       "      <td>42</td>\n",
       "      <td>3</td>\n",
       "      <td>3</td>\n",
       "    </tr>\n",
       "    <tr>\n",
       "      <th>496</th>\n",
       "      <td>Male</td>\n",
       "      <td>24</td>\n",
       "      <td>Mumbai</td>\n",
       "      <td>Tablet</td>\n",
       "      <td>40</td>\n",
       "      <td>45</td>\n",
       "      <td>0</td>\n",
       "      <td>0</td>\n",
       "    </tr>\n",
       "  </tbody>\n",
       "</table>\n",
       "</div>"
      ],
      "text/plain": [
       "         Gender  Age   Location Device_Type  Product_Browsing_Time  \\\n",
       "User_ID                                                              \n",
       "9          Male   33     Mumbai     Desktop                     21   \n",
       "23       Female   21     Mumbai      Tablet                     16   \n",
       "56       Female   32    Chennai      Tablet                     56   \n",
       "70       Female   20  Hyderabad      Mobile                     27   \n",
       "74       Female   29      Delhi      Mobile                     57   \n",
       "110      Female   32    Kolkata      Tablet                     31   \n",
       "125        Male   29    Kolkata     Desktop                     58   \n",
       "128      Female   31  Ahmedabad     Desktop                     28   \n",
       "180        Male   30      Delhi      Tablet                     14   \n",
       "201      Female   19     Mumbai      Tablet                     34   \n",
       "204      Female   21    Kolkata     Desktop                     56   \n",
       "232        Male   30      Delhi      Tablet                     47   \n",
       "242        Male   25  Bangalore      Tablet                     32   \n",
       "247        Male   22    Chennai      Tablet                     14   \n",
       "250        Male   23    Chennai      Mobile                     51   \n",
       "255        Male   33      Delhi      Mobile                     11   \n",
       "266        Male   35  Bangalore      Mobile                     28   \n",
       "300        Male   18  Hyderabad     Desktop                     39   \n",
       "305      Female   32      Delhi     Desktop                      6   \n",
       "320        Male   32  Ahmedabad     Desktop                     16   \n",
       "332      Female   35     Mumbai     Desktop                     15   \n",
       "334      Female   34       Pune      Mobile                     29   \n",
       "353        Male   31       Pune     Desktop                     57   \n",
       "358      Female   23      Delhi      Tablet                     56   \n",
       "362        Male   24    Chennai     Desktop                     34   \n",
       "364      Female   18  Hyderabad      Tablet                      8   \n",
       "379        Male   33    Kolkata      Mobile                     48   \n",
       "394      Female   20      Delhi      Mobile                     38   \n",
       "413        Male   31       Pune     Desktop                     42   \n",
       "431      Female   23      Delhi     Desktop                     52   \n",
       "459      Female   29  Hyderabad     Desktop                     18   \n",
       "470        Male   21  Ahmedabad     Desktop                     13   \n",
       "471        Male   35  Ahmedabad      Tablet                     51   \n",
       "476        Male   18      Delhi      Mobile                     16   \n",
       "485        Male   31       Pune      Mobile                     12   \n",
       "496        Male   24     Mumbai      Tablet                     40   \n",
       "\n",
       "         Total_Pages_Viewed  Items_Added_to_Cart  Total_Purchases  \n",
       "User_ID                                                            \n",
       "9                        18                    5                5  \n",
       "23                       29                    1                1  \n",
       "56                       29                    2                2  \n",
       "70                       41                    0                0  \n",
       "74                       20                    1                1  \n",
       "110                      31                    0                0  \n",
       "125                      43                    3                3  \n",
       "128                      24                    5                5  \n",
       "180                       8                    2                2  \n",
       "201                       9                    1                1  \n",
       "204                      10                    5                5  \n",
       "232                      48                    3                3  \n",
       "242                       9                    2                2  \n",
       "247                      30                    4                4  \n",
       "250                      47                    4                4  \n",
       "255                      27                    5                5  \n",
       "266                      47                    5                5  \n",
       "300                      16                    2                2  \n",
       "305                      35                    0                0  \n",
       "320                      28                    4                4  \n",
       "332                      13                    2                2  \n",
       "334                      14                    5                5  \n",
       "353                      19                    2                2  \n",
       "358                      35                    2                2  \n",
       "362                       5                    4                4  \n",
       "364                      20                    1                1  \n",
       "379                      28                    5                5  \n",
       "394                      41                    3                3  \n",
       "413                      34                    4                4  \n",
       "431                       8                    2                2  \n",
       "459                      43                    5                5  \n",
       "470                      13                    2                2  \n",
       "471                      39                    2                2  \n",
       "476                      41                    5                5  \n",
       "485                      42                    3                3  \n",
       "496                      45                    0                0  "
      ]
     },
     "execution_count": 15,
     "metadata": {},
     "output_type": "execute_result"
    }
   ],
   "source": [
    "df[df[\"Items_Added_to_Cart\"]==df[\"Total_Purchases\"]]"
   ]
  },
  {
   "cell_type": "code",
   "execution_count": 16,
   "id": "25770f45",
   "metadata": {},
   "outputs": [
    {
     "data": {
      "text/html": [
       "<div>\n",
       "<style scoped>\n",
       "    .dataframe tbody tr th:only-of-type {\n",
       "        vertical-align: middle;\n",
       "    }\n",
       "\n",
       "    .dataframe tbody tr th {\n",
       "        vertical-align: top;\n",
       "    }\n",
       "\n",
       "    .dataframe thead th {\n",
       "        text-align: right;\n",
       "    }\n",
       "</style>\n",
       "<table border=\"1\" class=\"dataframe\">\n",
       "  <thead>\n",
       "    <tr style=\"text-align: right;\">\n",
       "      <th></th>\n",
       "      <th>Gender</th>\n",
       "      <th>Age</th>\n",
       "      <th>Location</th>\n",
       "      <th>Device_Type</th>\n",
       "      <th>Product_Browsing_Time</th>\n",
       "      <th>Total_Pages_Viewed</th>\n",
       "      <th>Items_Added_to_Cart</th>\n",
       "      <th>Total_Purchases</th>\n",
       "    </tr>\n",
       "    <tr>\n",
       "      <th>User_ID</th>\n",
       "      <th></th>\n",
       "      <th></th>\n",
       "      <th></th>\n",
       "      <th></th>\n",
       "      <th></th>\n",
       "      <th></th>\n",
       "      <th></th>\n",
       "      <th></th>\n",
       "    </tr>\n",
       "  </thead>\n",
       "  <tbody>\n",
       "    <tr>\n",
       "      <th>1</th>\n",
       "      <td>Female</td>\n",
       "      <td>23</td>\n",
       "      <td>Ahmedabad</td>\n",
       "      <td>Mobile</td>\n",
       "      <td>60</td>\n",
       "      <td>30</td>\n",
       "      <td>1</td>\n",
       "      <td>0</td>\n",
       "    </tr>\n",
       "    <tr>\n",
       "      <th>2</th>\n",
       "      <td>Male</td>\n",
       "      <td>25</td>\n",
       "      <td>Kolkata</td>\n",
       "      <td>Tablet</td>\n",
       "      <td>30</td>\n",
       "      <td>38</td>\n",
       "      <td>9</td>\n",
       "      <td>4</td>\n",
       "    </tr>\n",
       "    <tr>\n",
       "      <th>3</th>\n",
       "      <td>Male</td>\n",
       "      <td>32</td>\n",
       "      <td>Bangalore</td>\n",
       "      <td>Desktop</td>\n",
       "      <td>37</td>\n",
       "      <td>13</td>\n",
       "      <td>5</td>\n",
       "      <td>0</td>\n",
       "    </tr>\n",
       "    <tr>\n",
       "      <th>4</th>\n",
       "      <td>Male</td>\n",
       "      <td>35</td>\n",
       "      <td>Delhi</td>\n",
       "      <td>Mobile</td>\n",
       "      <td>7</td>\n",
       "      <td>20</td>\n",
       "      <td>10</td>\n",
       "      <td>3</td>\n",
       "    </tr>\n",
       "    <tr>\n",
       "      <th>5</th>\n",
       "      <td>Male</td>\n",
       "      <td>27</td>\n",
       "      <td>Bangalore</td>\n",
       "      <td>Tablet</td>\n",
       "      <td>35</td>\n",
       "      <td>20</td>\n",
       "      <td>8</td>\n",
       "      <td>2</td>\n",
       "    </tr>\n",
       "    <tr>\n",
       "      <th>...</th>\n",
       "      <td>...</td>\n",
       "      <td>...</td>\n",
       "      <td>...</td>\n",
       "      <td>...</td>\n",
       "      <td>...</td>\n",
       "      <td>...</td>\n",
       "      <td>...</td>\n",
       "      <td>...</td>\n",
       "    </tr>\n",
       "    <tr>\n",
       "      <th>495</th>\n",
       "      <td>Male</td>\n",
       "      <td>31</td>\n",
       "      <td>Pune</td>\n",
       "      <td>Desktop</td>\n",
       "      <td>32</td>\n",
       "      <td>25</td>\n",
       "      <td>2</td>\n",
       "      <td>1</td>\n",
       "    </tr>\n",
       "    <tr>\n",
       "      <th>497</th>\n",
       "      <td>Female</td>\n",
       "      <td>24</td>\n",
       "      <td>Hyderabad</td>\n",
       "      <td>Desktop</td>\n",
       "      <td>8</td>\n",
       "      <td>34</td>\n",
       "      <td>4</td>\n",
       "      <td>5</td>\n",
       "    </tr>\n",
       "    <tr>\n",
       "      <th>498</th>\n",
       "      <td>Male</td>\n",
       "      <td>19</td>\n",
       "      <td>Pune</td>\n",
       "      <td>Desktop</td>\n",
       "      <td>33</td>\n",
       "      <td>41</td>\n",
       "      <td>0</td>\n",
       "      <td>3</td>\n",
       "    </tr>\n",
       "    <tr>\n",
       "      <th>499</th>\n",
       "      <td>Male</td>\n",
       "      <td>28</td>\n",
       "      <td>Chennai</td>\n",
       "      <td>Desktop</td>\n",
       "      <td>6</td>\n",
       "      <td>32</td>\n",
       "      <td>7</td>\n",
       "      <td>4</td>\n",
       "    </tr>\n",
       "    <tr>\n",
       "      <th>500</th>\n",
       "      <td>Female</td>\n",
       "      <td>31</td>\n",
       "      <td>Kolkata</td>\n",
       "      <td>Mobile</td>\n",
       "      <td>16</td>\n",
       "      <td>10</td>\n",
       "      <td>10</td>\n",
       "      <td>4</td>\n",
       "    </tr>\n",
       "  </tbody>\n",
       "</table>\n",
       "<p>464 rows × 8 columns</p>\n",
       "</div>"
      ],
      "text/plain": [
       "         Gender  Age   Location Device_Type  Product_Browsing_Time  \\\n",
       "User_ID                                                              \n",
       "1        Female   23  Ahmedabad      Mobile                     60   \n",
       "2          Male   25    Kolkata      Tablet                     30   \n",
       "3          Male   32  Bangalore     Desktop                     37   \n",
       "4          Male   35      Delhi      Mobile                      7   \n",
       "5          Male   27  Bangalore      Tablet                     35   \n",
       "...         ...  ...        ...         ...                    ...   \n",
       "495        Male   31       Pune     Desktop                     32   \n",
       "497      Female   24  Hyderabad     Desktop                      8   \n",
       "498        Male   19       Pune     Desktop                     33   \n",
       "499        Male   28    Chennai     Desktop                      6   \n",
       "500      Female   31    Kolkata      Mobile                     16   \n",
       "\n",
       "         Total_Pages_Viewed  Items_Added_to_Cart  Total_Purchases  \n",
       "User_ID                                                            \n",
       "1                        30                    1                0  \n",
       "2                        38                    9                4  \n",
       "3                        13                    5                0  \n",
       "4                        20                   10                3  \n",
       "5                        20                    8                2  \n",
       "...                     ...                  ...              ...  \n",
       "495                      25                    2                1  \n",
       "497                      34                    4                5  \n",
       "498                      41                    0                3  \n",
       "499                      32                    7                4  \n",
       "500                      10                   10                4  \n",
       "\n",
       "[464 rows x 8 columns]"
      ]
     },
     "execution_count": 16,
     "metadata": {},
     "output_type": "execute_result"
    }
   ],
   "source": [
    "tot_pur=df[df[\"Items_Added_to_Cart\"]!=df[\"Total_Purchases\"]]\n",
    "tot_pur"
   ]
  },
  {
   "cell_type": "markdown",
   "id": "7f56fec5",
   "metadata": {},
   "source": [
    "- compared to the whole data we can see that very less customers are buying all the products that have been added to cart\n",
    "- more than 460 customers are not buying all the pdcts that have been added to cart "
   ]
  },
  {
   "cell_type": "code",
   "execution_count": 17,
   "id": "08570d03",
   "metadata": {},
   "outputs": [],
   "source": [
    "Brow = df.groupby('Device_Type')['Product_Browsing_Time'].sum()"
   ]
  },
  {
   "cell_type": "code",
   "execution_count": 18,
   "id": "780e3800",
   "metadata": {},
   "outputs": [
    {
     "data": {
      "image/png": "[encoded data removed]",
      "text/plain": [
       "<Figure size 1000x800 with 1 Axes>"
      ]
     },
     "metadata": {},
     "output_type": "display_data"
    }
   ],
   "source": [
    "plt.figure(figsize=(10,8))\n",
    "pie2 = Brow.plot.pie(autopct='%1.1f%%', startangle=90)\n",
    "plt.title('Device browsing time', fontsize =12)\n",
    "pie2.legend(loc='upper right')\n",
    "plt.show()"
   ]
  },
  {
   "cell_type": "markdown",
   "id": "1164eb6f",
   "metadata": {},
   "source": [
    "    Most of the purchase has done by Male.\n",
    "    Most of the purchase has done through Mobile\n",
    "    Mobile has used more time to browse through the site"
   ]
  },
  {
   "cell_type": "markdown",
   "id": "f063d597",
   "metadata": {},
   "source": [
    "\n",
    "CONCLUSIONS:\n",
    "\n",
    "    • Majority of customers are male, aged 21-29.\n",
    "    • Kolkata and Delhi are the top cities for e-commerce customers.\n",
    "    • Mobile and tablet platforms are most used by men.\n",
    "    • Desktops are more used by women.\n",
    "    • Mobile is the most used e-commerce platform.\n",
    "    • Less than 460 customers complete all cart items.\n",
    "    • Majority of purchases are made through mobile, requiring more time for site browsing."
   ]
  },
  {
   "cell_type": "code",
   "execution_count": null,
   "id": "90d79af3",
   "metadata": {},
   "outputs": [],
   "source": []
  }
 ],
 "metadata": {
  "kernelspec": {
   "display_name": "Python 3 (ipykernel)",
   "language": "python",
   "name": "python3"
  },
  "language_info": {
   "codemirror_mode": {
    "name": "ipython",
    "version": 3
   },
   "file_extension": ".py",
   "mimetype": "text/x-python",
   "name": "python",
   "nbconvert_exporter": "python",
   "pygments_lexer": "ipython3",
   "version": "3.10.9"
  }
 },
 "nbformat": 4,
 "nbformat_minor": 5
}
